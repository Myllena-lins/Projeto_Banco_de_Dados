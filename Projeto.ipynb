{
  "nbformat": 4,
  "nbformat_minor": 0,
  "metadata": {
    "colab": {
      "provenance": [],
      "include_colab_link": true
    },
    "kernelspec": {
      "name": "python3",
      "display_name": "Python 3"
    },
    "language_info": {
      "name": "python"
    }
  },
  "cells": [
    {
      "cell_type": "markdown",
      "metadata": {
        "id": "view-in-github",
        "colab_type": "text"
      },
      "source": [
        "<a href=\"https://colab.research.google.com/github/Myllena-lins/Projeto_Banco_de_Dados/blob/main/Projeto.ipynb\" target=\"_parent\"><img src=\"https://colab.research.google.com/assets/colab-badge.svg\" alt=\"Open In Colab\"/></a>"
      ]
    },
    {
      "cell_type": "markdown",
      "source": [
        "# **Projeto Final Banco de Dados**\n",
        "\n",
        "---\n",
        "**Dados**\n",
        "- Análise Descritiva\n",
        "- Fazer 10 perguntas ao seu dataset e responda-as com querys\n",
        "\n",
        "OBS: Como utilizei o colab e não o Jupiter, fiz uns ajustes que achei necessário para melhor leitura das respostas, mas busquei implementar o que foi visto nas aulas, e ousei um pouco fazendo umas coisas que eu já tinha aprendendo na Universidade."
      ],
      "metadata": {
        "id": "O58VTrZzfH06"
      }
    },
    {
      "cell_type": "code",
      "source": [
        "!pip install pandasql\n"
      ],
      "metadata": {
        "id": "TY5Jdglzx3WQ"
      },
      "execution_count": null,
      "outputs": []
    },
    {
      "cell_type": "code",
      "source": [
        "!pip install tabulate\n"
      ],
      "metadata": {
        "id": "cpKwxZbJiDVy"
      },
      "execution_count": 2,
      "outputs": []
    },
    {
      "cell_type": "code",
      "execution_count": 3,
      "metadata": {
        "id": "7M6oXm4tfHLa"
      },
      "outputs": [],
      "source": [
        "import pandas as pd\n",
        "import sqlite3\n",
        "from tabulate import tabulate"
      ]
    },
    {
      "cell_type": "code",
      "source": [
        "dados = pd.read_csv('Selected_Online_Sport_Wagering_Data.csv')"
      ],
      "metadata": {
        "id": "2DK9C89-gpKR"
      },
      "execution_count": 5,
      "outputs": []
    },
    {
      "cell_type": "code",
      "source": [
        "dados"
      ],
      "metadata": {
        "id": "s8YNBNUogtuQ",
        "colab": {
          "base_uri": "https://localhost:8080/",
          "height": 947
        },
        "outputId": "577b4bc3-5df4-4d1b-9135-36d4f232f29d"
      },
      "execution_count": 6,
      "outputs": [
        {
          "output_type": "execute_result",
          "data": {
            "text/plain": [
              "                               Licensee Fiscal Year            Month Ending  \\\n",
              "0   MPI Master Wagering License CT, LLC     2023/24  10/31/2023 12:00:00 AM   \n",
              "1                  Mohegan Digital, LLC     2023/24  10/31/2023 12:00:00 AM   \n",
              "2                       CT Lottery Corp     2023/24  10/31/2023 12:00:00 AM   \n",
              "3   MPI Master Wagering License CT, LLC     2023/24  09/30/2023 12:00:00 AM   \n",
              "4                  Mohegan Digital, LLC     2023/24  09/30/2023 12:00:00 AM   \n",
              "..                                  ...         ...                     ...   \n",
              "70                 Mohegan Digital, LLC     2021/22  11/30/2021 12:00:00 AM   \n",
              "71                      CT Lottery Corp     2021/22  11/30/2021 12:00:00 AM   \n",
              "72  MPI Master Wagering License CT, LLC     2021/22  10/31/2021 12:00:00 AM   \n",
              "73                 Mohegan Digital, LLC     2021/22  10/31/2021 12:00:00 AM   \n",
              "74                      CT Lottery Corp     2021/22  10/31/2021 12:00:00 AM   \n",
              "\n",
              "      Wagers  Patron Winnings  Cancelled Wagers  Monthly Resettlements (3)  \\\n",
              "0   88261046         80492445            159833                     -16787   \n",
              "1   75578037         66242159            114432                      51957   \n",
              "2   13331951         11960580             25745                       6502   \n",
              "3   79064255         72235151            191177                    -264510   \n",
              "4   75742477         66066300            219048                     -72833   \n",
              "..       ...              ...               ...                        ...   \n",
              "70  58999340         50751107            127550                      30748   \n",
              "71   8518887          7660972             99459                      -3267   \n",
              "72  23770250         20117086             43488                      -4121   \n",
              "73  27082842         26047082            102765                      58834   \n",
              "74   3246536          2901339             41418                      10047   \n",
              "\n",
              "    Online Sports Wagering Win/(Loss)  Federal Excise Tax (4)  \\\n",
              "0                             7625553                  212331   \n",
              "1                             9169489                  181797   \n",
              "2                             1339123                   33265   \n",
              "3                             6902437                  188874   \n",
              "4                             9529961                  181472   \n",
              "..                                ...                     ...   \n",
              "70                            8089935                  140366   \n",
              "71                             761722                   21279   \n",
              "72                            3613797                   53427   \n",
              "73                             874160                   61453   \n",
              "74                             293732                    8013   \n",
              "\n",
              "    Unadjusted Monthly Gaming Revenue  \\\n",
              "0                             7413222   \n",
              "1                             8987693   \n",
              "2                             1305858   \n",
              "3                             6713563   \n",
              "4                             9348489   \n",
              "..                                ...   \n",
              "70                            7949569   \n",
              "71                             740443   \n",
              "72                            3560370   \n",
              "73                             812707   \n",
              "74                             285720   \n",
              "\n",
              "    Promotional Coupons or Credits Wagered (5)  Promotional Deduction (6)  \\\n",
              "0                                      2517905                    1111983   \n",
              "1                                      2744995                    1348154   \n",
              "2                                       260578                     195879   \n",
              "3                                      2996029                    1342713   \n",
              "4                                      2934685                    1869698   \n",
              "..                                         ...                        ...   \n",
              "70                                     2725338                    1987392   \n",
              "71                                      405253                     185111   \n",
              "72                                     2119449                     890092   \n",
              "73                                     2398934                     203177   \n",
              "74                                      404431                      71430   \n",
              "\n",
              "    Total Gross Gaming Revenue  Payment (7) Notes  \n",
              "0                      6301239       866420   NaN  \n",
              "1                      7639539      1050437   NaN  \n",
              "2                      1109979       152622   NaN  \n",
              "3                      5370850       738492   NaN  \n",
              "4                      7478791      1028334   NaN  \n",
              "..                         ...          ...   ...  \n",
              "70                     5962177       819799   NaN  \n",
              "71                      555332        76358   NaN  \n",
              "72                     2670277       367163   8,9  \n",
              "73                      609530        83810   NaN  \n",
              "74                      214290        29465   NaN  \n",
              "\n",
              "[75 rows x 15 columns]"
            ],
            "text/html": [
              "\n",
              "  <div id=\"df-79d7d95b-2b8f-402c-9438-ff4529d2111b\" class=\"colab-df-container\">\n",
              "    <div>\n",
              "<style scoped>\n",
              "    .dataframe tbody tr th:only-of-type {\n",
              "        vertical-align: middle;\n",
              "    }\n",
              "\n",
              "    .dataframe tbody tr th {\n",
              "        vertical-align: top;\n",
              "    }\n",
              "\n",
              "    .dataframe thead th {\n",
              "        text-align: right;\n",
              "    }\n",
              "</style>\n",
              "<table border=\"1\" class=\"dataframe\">\n",
              "  <thead>\n",
              "    <tr style=\"text-align: right;\">\n",
              "      <th></th>\n",
              "      <th>Licensee</th>\n",
              "      <th>Fiscal Year</th>\n",
              "      <th>Month Ending</th>\n",
              "      <th>Wagers</th>\n",
              "      <th>Patron Winnings</th>\n",
              "      <th>Cancelled Wagers</th>\n",
              "      <th>Monthly Resettlements (3)</th>\n",
              "      <th>Online Sports Wagering Win/(Loss)</th>\n",
              "      <th>Federal Excise Tax (4)</th>\n",
              "      <th>Unadjusted Monthly Gaming Revenue</th>\n",
              "      <th>Promotional Coupons or Credits Wagered (5)</th>\n",
              "      <th>Promotional Deduction (6)</th>\n",
              "      <th>Total Gross Gaming Revenue</th>\n",
              "      <th>Payment (7)</th>\n",
              "      <th>Notes</th>\n",
              "    </tr>\n",
              "  </thead>\n",
              "  <tbody>\n",
              "    <tr>\n",
              "      <th>0</th>\n",
              "      <td>MPI Master Wagering License CT, LLC</td>\n",
              "      <td>2023/24</td>\n",
              "      <td>10/31/2023 12:00:00 AM</td>\n",
              "      <td>88261046</td>\n",
              "      <td>80492445</td>\n",
              "      <td>159833</td>\n",
              "      <td>-16787</td>\n",
              "      <td>7625553</td>\n",
              "      <td>212331</td>\n",
              "      <td>7413222</td>\n",
              "      <td>2517905</td>\n",
              "      <td>1111983</td>\n",
              "      <td>6301239</td>\n",
              "      <td>866420</td>\n",
              "      <td>NaN</td>\n",
              "    </tr>\n",
              "    <tr>\n",
              "      <th>1</th>\n",
              "      <td>Mohegan Digital, LLC</td>\n",
              "      <td>2023/24</td>\n",
              "      <td>10/31/2023 12:00:00 AM</td>\n",
              "      <td>75578037</td>\n",
              "      <td>66242159</td>\n",
              "      <td>114432</td>\n",
              "      <td>51957</td>\n",
              "      <td>9169489</td>\n",
              "      <td>181797</td>\n",
              "      <td>8987693</td>\n",
              "      <td>2744995</td>\n",
              "      <td>1348154</td>\n",
              "      <td>7639539</td>\n",
              "      <td>1050437</td>\n",
              "      <td>NaN</td>\n",
              "    </tr>\n",
              "    <tr>\n",
              "      <th>2</th>\n",
              "      <td>CT Lottery Corp</td>\n",
              "      <td>2023/24</td>\n",
              "      <td>10/31/2023 12:00:00 AM</td>\n",
              "      <td>13331951</td>\n",
              "      <td>11960580</td>\n",
              "      <td>25745</td>\n",
              "      <td>6502</td>\n",
              "      <td>1339123</td>\n",
              "      <td>33265</td>\n",
              "      <td>1305858</td>\n",
              "      <td>260578</td>\n",
              "      <td>195879</td>\n",
              "      <td>1109979</td>\n",
              "      <td>152622</td>\n",
              "      <td>NaN</td>\n",
              "    </tr>\n",
              "    <tr>\n",
              "      <th>3</th>\n",
              "      <td>MPI Master Wagering License CT, LLC</td>\n",
              "      <td>2023/24</td>\n",
              "      <td>09/30/2023 12:00:00 AM</td>\n",
              "      <td>79064255</td>\n",
              "      <td>72235151</td>\n",
              "      <td>191177</td>\n",
              "      <td>-264510</td>\n",
              "      <td>6902437</td>\n",
              "      <td>188874</td>\n",
              "      <td>6713563</td>\n",
              "      <td>2996029</td>\n",
              "      <td>1342713</td>\n",
              "      <td>5370850</td>\n",
              "      <td>738492</td>\n",
              "      <td>NaN</td>\n",
              "    </tr>\n",
              "    <tr>\n",
              "      <th>4</th>\n",
              "      <td>Mohegan Digital, LLC</td>\n",
              "      <td>2023/24</td>\n",
              "      <td>09/30/2023 12:00:00 AM</td>\n",
              "      <td>75742477</td>\n",
              "      <td>66066300</td>\n",
              "      <td>219048</td>\n",
              "      <td>-72833</td>\n",
              "      <td>9529961</td>\n",
              "      <td>181472</td>\n",
              "      <td>9348489</td>\n",
              "      <td>2934685</td>\n",
              "      <td>1869698</td>\n",
              "      <td>7478791</td>\n",
              "      <td>1028334</td>\n",
              "      <td>NaN</td>\n",
              "    </tr>\n",
              "    <tr>\n",
              "      <th>...</th>\n",
              "      <td>...</td>\n",
              "      <td>...</td>\n",
              "      <td>...</td>\n",
              "      <td>...</td>\n",
              "      <td>...</td>\n",
              "      <td>...</td>\n",
              "      <td>...</td>\n",
              "      <td>...</td>\n",
              "      <td>...</td>\n",
              "      <td>...</td>\n",
              "      <td>...</td>\n",
              "      <td>...</td>\n",
              "      <td>...</td>\n",
              "      <td>...</td>\n",
              "      <td>...</td>\n",
              "    </tr>\n",
              "    <tr>\n",
              "      <th>70</th>\n",
              "      <td>Mohegan Digital, LLC</td>\n",
              "      <td>2021/22</td>\n",
              "      <td>11/30/2021 12:00:00 AM</td>\n",
              "      <td>58999340</td>\n",
              "      <td>50751107</td>\n",
              "      <td>127550</td>\n",
              "      <td>30748</td>\n",
              "      <td>8089935</td>\n",
              "      <td>140366</td>\n",
              "      <td>7949569</td>\n",
              "      <td>2725338</td>\n",
              "      <td>1987392</td>\n",
              "      <td>5962177</td>\n",
              "      <td>819799</td>\n",
              "      <td>NaN</td>\n",
              "    </tr>\n",
              "    <tr>\n",
              "      <th>71</th>\n",
              "      <td>CT Lottery Corp</td>\n",
              "      <td>2021/22</td>\n",
              "      <td>11/30/2021 12:00:00 AM</td>\n",
              "      <td>8518887</td>\n",
              "      <td>7660972</td>\n",
              "      <td>99459</td>\n",
              "      <td>-3267</td>\n",
              "      <td>761722</td>\n",
              "      <td>21279</td>\n",
              "      <td>740443</td>\n",
              "      <td>405253</td>\n",
              "      <td>185111</td>\n",
              "      <td>555332</td>\n",
              "      <td>76358</td>\n",
              "      <td>NaN</td>\n",
              "    </tr>\n",
              "    <tr>\n",
              "      <th>72</th>\n",
              "      <td>MPI Master Wagering License CT, LLC</td>\n",
              "      <td>2021/22</td>\n",
              "      <td>10/31/2021 12:00:00 AM</td>\n",
              "      <td>23770250</td>\n",
              "      <td>20117086</td>\n",
              "      <td>43488</td>\n",
              "      <td>-4121</td>\n",
              "      <td>3613797</td>\n",
              "      <td>53427</td>\n",
              "      <td>3560370</td>\n",
              "      <td>2119449</td>\n",
              "      <td>890092</td>\n",
              "      <td>2670277</td>\n",
              "      <td>367163</td>\n",
              "      <td>8,9</td>\n",
              "    </tr>\n",
              "    <tr>\n",
              "      <th>73</th>\n",
              "      <td>Mohegan Digital, LLC</td>\n",
              "      <td>2021/22</td>\n",
              "      <td>10/31/2021 12:00:00 AM</td>\n",
              "      <td>27082842</td>\n",
              "      <td>26047082</td>\n",
              "      <td>102765</td>\n",
              "      <td>58834</td>\n",
              "      <td>874160</td>\n",
              "      <td>61453</td>\n",
              "      <td>812707</td>\n",
              "      <td>2398934</td>\n",
              "      <td>203177</td>\n",
              "      <td>609530</td>\n",
              "      <td>83810</td>\n",
              "      <td>NaN</td>\n",
              "    </tr>\n",
              "    <tr>\n",
              "      <th>74</th>\n",
              "      <td>CT Lottery Corp</td>\n",
              "      <td>2021/22</td>\n",
              "      <td>10/31/2021 12:00:00 AM</td>\n",
              "      <td>3246536</td>\n",
              "      <td>2901339</td>\n",
              "      <td>41418</td>\n",
              "      <td>10047</td>\n",
              "      <td>293732</td>\n",
              "      <td>8013</td>\n",
              "      <td>285720</td>\n",
              "      <td>404431</td>\n",
              "      <td>71430</td>\n",
              "      <td>214290</td>\n",
              "      <td>29465</td>\n",
              "      <td>NaN</td>\n",
              "    </tr>\n",
              "  </tbody>\n",
              "</table>\n",
              "<p>75 rows × 15 columns</p>\n",
              "</div>\n",
              "    <div class=\"colab-df-buttons\">\n",
              "\n",
              "  <div class=\"colab-df-container\">\n",
              "    <button class=\"colab-df-convert\" onclick=\"convertToInteractive('df-79d7d95b-2b8f-402c-9438-ff4529d2111b')\"\n",
              "            title=\"Convert this dataframe to an interactive table.\"\n",
              "            style=\"display:none;\">\n",
              "\n",
              "  <svg xmlns=\"http://www.w3.org/2000/svg\" height=\"24px\" viewBox=\"0 -960 960 960\">\n",
              "    <path d=\"M120-120v-720h720v720H120Zm60-500h600v-160H180v160Zm220 220h160v-160H400v160Zm0 220h160v-160H400v160ZM180-400h160v-160H180v160Zm440 0h160v-160H620v160ZM180-180h160v-160H180v160Zm440 0h160v-160H620v160Z\"/>\n",
              "  </svg>\n",
              "    </button>\n",
              "\n",
              "  <style>\n",
              "    .colab-df-container {\n",
              "      display:flex;\n",
              "      gap: 12px;\n",
              "    }\n",
              "\n",
              "    .colab-df-convert {\n",
              "      background-color: #E8F0FE;\n",
              "      border: none;\n",
              "      border-radius: 50%;\n",
              "      cursor: pointer;\n",
              "      display: none;\n",
              "      fill: #1967D2;\n",
              "      height: 32px;\n",
              "      padding: 0 0 0 0;\n",
              "      width: 32px;\n",
              "    }\n",
              "\n",
              "    .colab-df-convert:hover {\n",
              "      background-color: #E2EBFA;\n",
              "      box-shadow: 0px 1px 2px rgba(60, 64, 67, 0.3), 0px 1px 3px 1px rgba(60, 64, 67, 0.15);\n",
              "      fill: #174EA6;\n",
              "    }\n",
              "\n",
              "    .colab-df-buttons div {\n",
              "      margin-bottom: 4px;\n",
              "    }\n",
              "\n",
              "    [theme=dark] .colab-df-convert {\n",
              "      background-color: #3B4455;\n",
              "      fill: #D2E3FC;\n",
              "    }\n",
              "\n",
              "    [theme=dark] .colab-df-convert:hover {\n",
              "      background-color: #434B5C;\n",
              "      box-shadow: 0px 1px 3px 1px rgba(0, 0, 0, 0.15);\n",
              "      filter: drop-shadow(0px 1px 2px rgba(0, 0, 0, 0.3));\n",
              "      fill: #FFFFFF;\n",
              "    }\n",
              "  </style>\n",
              "\n",
              "    <script>\n",
              "      const buttonEl =\n",
              "        document.querySelector('#df-79d7d95b-2b8f-402c-9438-ff4529d2111b button.colab-df-convert');\n",
              "      buttonEl.style.display =\n",
              "        google.colab.kernel.accessAllowed ? 'block' : 'none';\n",
              "\n",
              "      async function convertToInteractive(key) {\n",
              "        const element = document.querySelector('#df-79d7d95b-2b8f-402c-9438-ff4529d2111b');\n",
              "        const dataTable =\n",
              "          await google.colab.kernel.invokeFunction('convertToInteractive',\n",
              "                                                    [key], {});\n",
              "        if (!dataTable) return;\n",
              "\n",
              "        const docLinkHtml = 'Like what you see? Visit the ' +\n",
              "          '<a target=\"_blank\" href=https://colab.research.google.com/notebooks/data_table.ipynb>data table notebook</a>'\n",
              "          + ' to learn more about interactive tables.';\n",
              "        element.innerHTML = '';\n",
              "        dataTable['output_type'] = 'display_data';\n",
              "        await google.colab.output.renderOutput(dataTable, element);\n",
              "        const docLink = document.createElement('div');\n",
              "        docLink.innerHTML = docLinkHtml;\n",
              "        element.appendChild(docLink);\n",
              "      }\n",
              "    </script>\n",
              "  </div>\n",
              "\n",
              "\n",
              "<div id=\"df-394679aa-a87c-47d4-a764-9542152c3ebf\">\n",
              "  <button class=\"colab-df-quickchart\" onclick=\"quickchart('df-394679aa-a87c-47d4-a764-9542152c3ebf')\"\n",
              "            title=\"Suggest charts\"\n",
              "            style=\"display:none;\">\n",
              "\n",
              "<svg xmlns=\"http://www.w3.org/2000/svg\" height=\"24px\"viewBox=\"0 0 24 24\"\n",
              "     width=\"24px\">\n",
              "    <g>\n",
              "        <path d=\"M19 3H5c-1.1 0-2 .9-2 2v14c0 1.1.9 2 2 2h14c1.1 0 2-.9 2-2V5c0-1.1-.9-2-2-2zM9 17H7v-7h2v7zm4 0h-2V7h2v10zm4 0h-2v-4h2v4z\"/>\n",
              "    </g>\n",
              "</svg>\n",
              "  </button>\n",
              "\n",
              "<style>\n",
              "  .colab-df-quickchart {\n",
              "      --bg-color: #E8F0FE;\n",
              "      --fill-color: #1967D2;\n",
              "      --hover-bg-color: #E2EBFA;\n",
              "      --hover-fill-color: #174EA6;\n",
              "      --disabled-fill-color: #AAA;\n",
              "      --disabled-bg-color: #DDD;\n",
              "  }\n",
              "\n",
              "  [theme=dark] .colab-df-quickchart {\n",
              "      --bg-color: #3B4455;\n",
              "      --fill-color: #D2E3FC;\n",
              "      --hover-bg-color: #434B5C;\n",
              "      --hover-fill-color: #FFFFFF;\n",
              "      --disabled-bg-color: #3B4455;\n",
              "      --disabled-fill-color: #666;\n",
              "  }\n",
              "\n",
              "  .colab-df-quickchart {\n",
              "    background-color: var(--bg-color);\n",
              "    border: none;\n",
              "    border-radius: 50%;\n",
              "    cursor: pointer;\n",
              "    display: none;\n",
              "    fill: var(--fill-color);\n",
              "    height: 32px;\n",
              "    padding: 0;\n",
              "    width: 32px;\n",
              "  }\n",
              "\n",
              "  .colab-df-quickchart:hover {\n",
              "    background-color: var(--hover-bg-color);\n",
              "    box-shadow: 0 1px 2px rgba(60, 64, 67, 0.3), 0 1px 3px 1px rgba(60, 64, 67, 0.15);\n",
              "    fill: var(--button-hover-fill-color);\n",
              "  }\n",
              "\n",
              "  .colab-df-quickchart-complete:disabled,\n",
              "  .colab-df-quickchart-complete:disabled:hover {\n",
              "    background-color: var(--disabled-bg-color);\n",
              "    fill: var(--disabled-fill-color);\n",
              "    box-shadow: none;\n",
              "  }\n",
              "\n",
              "  .colab-df-spinner {\n",
              "    border: 2px solid var(--fill-color);\n",
              "    border-color: transparent;\n",
              "    border-bottom-color: var(--fill-color);\n",
              "    animation:\n",
              "      spin 1s steps(1) infinite;\n",
              "  }\n",
              "\n",
              "  @keyframes spin {\n",
              "    0% {\n",
              "      border-color: transparent;\n",
              "      border-bottom-color: var(--fill-color);\n",
              "      border-left-color: var(--fill-color);\n",
              "    }\n",
              "    20% {\n",
              "      border-color: transparent;\n",
              "      border-left-color: var(--fill-color);\n",
              "      border-top-color: var(--fill-color);\n",
              "    }\n",
              "    30% {\n",
              "      border-color: transparent;\n",
              "      border-left-color: var(--fill-color);\n",
              "      border-top-color: var(--fill-color);\n",
              "      border-right-color: var(--fill-color);\n",
              "    }\n",
              "    40% {\n",
              "      border-color: transparent;\n",
              "      border-right-color: var(--fill-color);\n",
              "      border-top-color: var(--fill-color);\n",
              "    }\n",
              "    60% {\n",
              "      border-color: transparent;\n",
              "      border-right-color: var(--fill-color);\n",
              "    }\n",
              "    80% {\n",
              "      border-color: transparent;\n",
              "      border-right-color: var(--fill-color);\n",
              "      border-bottom-color: var(--fill-color);\n",
              "    }\n",
              "    90% {\n",
              "      border-color: transparent;\n",
              "      border-bottom-color: var(--fill-color);\n",
              "    }\n",
              "  }\n",
              "</style>\n",
              "\n",
              "  <script>\n",
              "    async function quickchart(key) {\n",
              "      const quickchartButtonEl =\n",
              "        document.querySelector('#' + key + ' button');\n",
              "      quickchartButtonEl.disabled = true;  // To prevent multiple clicks.\n",
              "      quickchartButtonEl.classList.add('colab-df-spinner');\n",
              "      try {\n",
              "        const charts = await google.colab.kernel.invokeFunction(\n",
              "            'suggestCharts', [key], {});\n",
              "      } catch (error) {\n",
              "        console.error('Error during call to suggestCharts:', error);\n",
              "      }\n",
              "      quickchartButtonEl.classList.remove('colab-df-spinner');\n",
              "      quickchartButtonEl.classList.add('colab-df-quickchart-complete');\n",
              "    }\n",
              "    (() => {\n",
              "      let quickchartButtonEl =\n",
              "        document.querySelector('#df-394679aa-a87c-47d4-a764-9542152c3ebf button');\n",
              "      quickchartButtonEl.style.display =\n",
              "        google.colab.kernel.accessAllowed ? 'block' : 'none';\n",
              "    })();\n",
              "  </script>\n",
              "</div>\n",
              "\n",
              "  <div id=\"id_f7c395a3-ec7a-4228-87d6-974adcd78ced\">\n",
              "    <style>\n",
              "      .colab-df-generate {\n",
              "        background-color: #E8F0FE;\n",
              "        border: none;\n",
              "        border-radius: 50%;\n",
              "        cursor: pointer;\n",
              "        display: none;\n",
              "        fill: #1967D2;\n",
              "        height: 32px;\n",
              "        padding: 0 0 0 0;\n",
              "        width: 32px;\n",
              "      }\n",
              "\n",
              "      .colab-df-generate:hover {\n",
              "        background-color: #E2EBFA;\n",
              "        box-shadow: 0px 1px 2px rgba(60, 64, 67, 0.3), 0px 1px 3px 1px rgba(60, 64, 67, 0.15);\n",
              "        fill: #174EA6;\n",
              "      }\n",
              "\n",
              "      [theme=dark] .colab-df-generate {\n",
              "        background-color: #3B4455;\n",
              "        fill: #D2E3FC;\n",
              "      }\n",
              "\n",
              "      [theme=dark] .colab-df-generate:hover {\n",
              "        background-color: #434B5C;\n",
              "        box-shadow: 0px 1px 3px 1px rgba(0, 0, 0, 0.15);\n",
              "        filter: drop-shadow(0px 1px 2px rgba(0, 0, 0, 0.3));\n",
              "        fill: #FFFFFF;\n",
              "      }\n",
              "    </style>\n",
              "    <button class=\"colab-df-generate\" onclick=\"generateWithVariable('dados')\"\n",
              "            title=\"Generate code using this dataframe.\"\n",
              "            style=\"display:none;\">\n",
              "\n",
              "  <svg xmlns=\"http://www.w3.org/2000/svg\" height=\"24px\"viewBox=\"0 0 24 24\"\n",
              "       width=\"24px\">\n",
              "    <path d=\"M7,19H8.4L18.45,9,17,7.55,7,17.6ZM5,21V16.75L18.45,3.32a2,2,0,0,1,2.83,0l1.4,1.43a1.91,1.91,0,0,1,.58,1.4,1.91,1.91,0,0,1-.58,1.4L9.25,21ZM18.45,9,17,7.55Zm-12,3A5.31,5.31,0,0,0,4.9,8.1,5.31,5.31,0,0,0,1,6.5,5.31,5.31,0,0,0,4.9,4.9,5.31,5.31,0,0,0,6.5,1,5.31,5.31,0,0,0,8.1,4.9,5.31,5.31,0,0,0,12,6.5,5.46,5.46,0,0,0,6.5,12Z\"/>\n",
              "  </svg>\n",
              "    </button>\n",
              "    <script>\n",
              "      (() => {\n",
              "      const buttonEl =\n",
              "        document.querySelector('#id_f7c395a3-ec7a-4228-87d6-974adcd78ced button.colab-df-generate');\n",
              "      buttonEl.style.display =\n",
              "        google.colab.kernel.accessAllowed ? 'block' : 'none';\n",
              "\n",
              "      buttonEl.onclick = () => {\n",
              "        google.colab.notebook.generateWithVariable('dados');\n",
              "      }\n",
              "      })();\n",
              "    </script>\n",
              "  </div>\n",
              "\n",
              "    </div>\n",
              "  </div>\n"
            ],
            "application/vnd.google.colaboratory.intrinsic+json": {
              "type": "dataframe",
              "variable_name": "dados",
              "summary": "{\n  \"name\": \"dados\",\n  \"rows\": 75,\n  \"fields\": [\n    {\n      \"column\": \"Licensee\",\n      \"properties\": {\n        \"dtype\": \"category\",\n        \"num_unique_values\": 3,\n        \"samples\": [\n          \"MPI Master Wagering License CT, LLC\",\n          \"Mohegan Digital, LLC\",\n          \"CT Lottery Corp\"\n        ],\n        \"semantic_type\": \"\",\n        \"description\": \"\"\n      }\n    },\n    {\n      \"column\": \"Fiscal Year\",\n      \"properties\": {\n        \"dtype\": \"category\",\n        \"num_unique_values\": 3,\n        \"samples\": [\n          \"2023/24\",\n          \"2022/23\",\n          \"2021/22\"\n        ],\n        \"semantic_type\": \"\",\n        \"description\": \"\"\n      }\n    },\n    {\n      \"column\": \"Month Ending\",\n      \"properties\": {\n        \"dtype\": \"object\",\n        \"num_unique_values\": 25,\n        \"samples\": [\n          \"02/28/2023 12:00:00 AM\",\n          \"06/30/2022 12:00:00 AM\",\n          \"10/31/2023 12:00:00 AM\"\n        ],\n        \"semantic_type\": \"\",\n        \"description\": \"\"\n      }\n    },\n    {\n      \"column\": \"Wagers\",\n      \"properties\": {\n        \"dtype\": \"number\",\n        \"std\": 23958829,\n        \"min\": 3246536,\n        \"max\": 88261046,\n        \"num_unique_values\": 75,\n        \"samples\": [\n          75742477,\n          73721647,\n          36303549\n        ],\n        \"semantic_type\": \"\",\n        \"description\": \"\"\n      }\n    },\n    {\n      \"column\": \"Patron Winnings\",\n      \"properties\": {\n        \"dtype\": \"number\",\n        \"std\": 21485771,\n        \"min\": 2901339,\n        \"max\": 80492445,\n        \"num_unique_values\": 75,\n        \"samples\": [\n          66066300,\n          67172043,\n          31265390\n        ],\n        \"semantic_type\": \"\",\n        \"description\": \"\"\n      }\n    },\n    {\n      \"column\": \"Cancelled Wagers\",\n      \"properties\": {\n        \"dtype\": \"number\",\n        \"std\": 167676,\n        \"min\": 11400,\n        \"max\": 888312,\n        \"num_unique_values\": 75,\n        \"samples\": [\n          219048,\n          181313,\n          220470\n        ],\n        \"semantic_type\": \"\",\n        \"description\": \"\"\n      }\n    },\n    {\n      \"column\": \"Monthly Resettlements (3)\",\n      \"properties\": {\n        \"dtype\": \"number\",\n        \"std\": 70275,\n        \"min\": -264510,\n        \"max\": 370199,\n        \"num_unique_values\": 75,\n        \"samples\": [\n          -72833,\n          28687,\n          113\n        ],\n        \"semantic_type\": \"\",\n        \"description\": \"\"\n      }\n    },\n    {\n      \"column\": \"Online Sports Wagering Win/(Loss)\",\n      \"properties\": {\n        \"dtype\": \"number\",\n        \"std\": 2741909,\n        \"min\": 293732,\n        \"max\": 9529961,\n        \"num_unique_values\": 75,\n        \"samples\": [\n          9529961,\n          6339605,\n          4817576\n        ],\n        \"semantic_type\": \"\",\n        \"description\": \"\"\n      }\n    },\n    {\n      \"column\": \"Federal Excise Tax (4)\",\n      \"properties\": {\n        \"dtype\": \"number\",\n        \"std\": 57604,\n        \"min\": 8013,\n        \"max\": 212331,\n        \"num_unique_values\": 75,\n        \"samples\": [\n          181472,\n          177370,\n          87629\n        ],\n        \"semantic_type\": \"\",\n        \"description\": \"\"\n      }\n    },\n    {\n      \"column\": \"Unadjusted Monthly Gaming Revenue\",\n      \"properties\": {\n        \"dtype\": \"number\",\n        \"std\": 2691570,\n        \"min\": 285720,\n        \"max\": 9348489,\n        \"num_unique_values\": 75,\n        \"samples\": [\n          9348489,\n          6162234,\n          4729947\n        ],\n        \"semantic_type\": \"\",\n        \"description\": \"\"\n      }\n    },\n    {\n      \"column\": \"Promotional Coupons or Credits Wagered (5)\",\n      \"properties\": {\n        \"dtype\": \"number\",\n        \"std\": 832511,\n        \"min\": 164324,\n        \"max\": 2996029,\n        \"num_unique_values\": 75,\n        \"samples\": [\n          2934685,\n          2194575,\n          1031661\n        ],\n        \"semantic_type\": \"\",\n        \"description\": \"\"\n      }\n    },\n    {\n      \"column\": \"Promotional Deduction (6)\",\n      \"properties\": {\n        \"dtype\": \"number\",\n        \"std\": 556788,\n        \"min\": 71430,\n        \"max\": 1987392,\n        \"num_unique_values\": 75,\n        \"samples\": [\n          1869698,\n          1540559,\n          945989\n        ],\n        \"semantic_type\": \"\",\n        \"description\": \"\"\n      }\n    },\n    {\n      \"column\": \"Total Gross Gaming Revenue\",\n      \"properties\": {\n        \"dtype\": \"number\",\n        \"std\": 2162807,\n        \"min\": 214290,\n        \"max\": 7639539,\n        \"num_unique_values\": 75,\n        \"samples\": [\n          7478791,\n          4621676,\n          3783958\n        ],\n        \"semantic_type\": \"\",\n        \"description\": \"\"\n      }\n    },\n    {\n      \"column\": \"Payment (7)\",\n      \"properties\": {\n        \"dtype\": \"number\",\n        \"std\": 297386,\n        \"min\": 29465,\n        \"max\": 1050437,\n        \"num_unique_values\": 75,\n        \"samples\": [\n          1028334,\n          635480,\n          520294\n        ],\n        \"semantic_type\": \"\",\n        \"description\": \"\"\n      }\n    },\n    {\n      \"column\": \"Notes\",\n      \"properties\": {\n        \"dtype\": \"category\",\n        \"num_unique_values\": 3,\n        \"samples\": [\n          \"9\",\n          \"8\",\n          \"8,9\"\n        ],\n        \"semantic_type\": \"\",\n        \"description\": \"\"\n      }\n    }\n  ]\n}"
            }
          },
          "metadata": {},
          "execution_count": 6
        }
      ]
    },
    {
      "cell_type": "markdown",
      "source": [
        "**Análise Descritiva**"
      ],
      "metadata": {
        "id": "FLnLtDQwi5SO"
      }
    },
    {
      "cell_type": "code",
      "source": [
        "dados_csv = 'Selected_Online_Sport_Wagering_Data.csv'\n",
        "dataframe = pd.read_csv(dados_csv)\n",
        "\n",
        "print(\"Primeiras linhas do DataFrame:\")\n",
        "print(tabulate(dataframe.head(), headers='keys', tablefmt='fancy_grid'))\n",
        "\n",
        "print(\"\\nEstatísticas Descritivas:\")\n",
        "print(tabulate(dataframe.describe(), headers='keys', tablefmt='fancy_grid'))\n",
        "\n",
        "print(\"\\nInformações Gerais:\")\n",
        "print(tabulate(dataframe.info(), headers='keys', tablefmt='fancy_grid'))"
      ],
      "metadata": {
        "id": "wA_7xlqsg-X2",
        "colab": {
          "base_uri": "https://localhost:8080/"
        },
        "outputId": "381c2fbb-7176-4ea4-9b3d-d3c88a6108ab"
      },
      "execution_count": 8,
      "outputs": [
        {
          "output_type": "stream",
          "name": "stdout",
          "text": [
            "Primeiras linhas do DataFrame:\n",
            "╒════╤═════════════════════════════════════╤═══════════════╤════════════════════════╤══════════╤═══════════════════╤════════════════════╤═════════════════════════════╤═════════════════════════════════════╤══════════════════════════╤═════════════════════════════════════╤══════════════════════════════════════════════╤═════════════════════════════╤══════════════════════════════╤═══════════════╤═════════╕\n",
            "│    │ Licensee                            │ Fiscal Year   │ Month Ending           │   Wagers │   Patron Winnings │   Cancelled Wagers │   Monthly Resettlements (3) │   Online Sports Wagering Win/(Loss) │   Federal Excise Tax (4) │   Unadjusted Monthly Gaming Revenue │   Promotional Coupons or Credits Wagered (5) │   Promotional Deduction (6) │   Total Gross Gaming Revenue │   Payment (7) │   Notes │\n",
            "╞════╪═════════════════════════════════════╪═══════════════╪════════════════════════╪══════════╪═══════════════════╪════════════════════╪═════════════════════════════╪═════════════════════════════════════╪══════════════════════════╪═════════════════════════════════════╪══════════════════════════════════════════════╪═════════════════════════════╪══════════════════════════════╪═══════════════╪═════════╡\n",
            "│  0 │ MPI Master Wagering License CT, LLC │ 2023/24       │ 10/31/2023 12:00:00 AM │ 88261046 │          80492445 │             159833 │                      -16787 │                             7625553 │                   212331 │                             7413222 │                                      2517905 │                     1111983 │                      6301239 │        866420 │     nan │\n",
            "├────┼─────────────────────────────────────┼───────────────┼────────────────────────┼──────────┼───────────────────┼────────────────────┼─────────────────────────────┼─────────────────────────────────────┼──────────────────────────┼─────────────────────────────────────┼──────────────────────────────────────────────┼─────────────────────────────┼──────────────────────────────┼───────────────┼─────────┤\n",
            "│  1 │ Mohegan Digital, LLC                │ 2023/24       │ 10/31/2023 12:00:00 AM │ 75578037 │          66242159 │             114432 │                       51957 │                             9169489 │                   181797 │                             8987693 │                                      2744995 │                     1348154 │                      7639539 │       1050437 │     nan │\n",
            "├────┼─────────────────────────────────────┼───────────────┼────────────────────────┼──────────┼───────────────────┼────────────────────┼─────────────────────────────┼─────────────────────────────────────┼──────────────────────────┼─────────────────────────────────────┼──────────────────────────────────────────────┼─────────────────────────────┼──────────────────────────────┼───────────────┼─────────┤\n",
            "│  2 │ CT Lottery Corp                     │ 2023/24       │ 10/31/2023 12:00:00 AM │ 13331951 │          11960580 │              25745 │                        6502 │                             1339123 │                    33265 │                             1305858 │                                       260578 │                      195879 │                      1109979 │        152622 │     nan │\n",
            "├────┼─────────────────────────────────────┼───────────────┼────────────────────────┼──────────┼───────────────────┼────────────────────┼─────────────────────────────┼─────────────────────────────────────┼──────────────────────────┼─────────────────────────────────────┼──────────────────────────────────────────────┼─────────────────────────────┼──────────────────────────────┼───────────────┼─────────┤\n",
            "│  3 │ MPI Master Wagering License CT, LLC │ 2023/24       │ 09/30/2023 12:00:00 AM │ 79064255 │          72235151 │             191177 │                     -264510 │                             6902437 │                   188874 │                             6713563 │                                      2996029 │                     1342713 │                      5370850 │        738492 │     nan │\n",
            "├────┼─────────────────────────────────────┼───────────────┼────────────────────────┼──────────┼───────────────────┼────────────────────┼─────────────────────────────┼─────────────────────────────────────┼──────────────────────────┼─────────────────────────────────────┼──────────────────────────────────────────────┼─────────────────────────────┼──────────────────────────────┼───────────────┼─────────┤\n",
            "│  4 │ Mohegan Digital, LLC                │ 2023/24       │ 09/30/2023 12:00:00 AM │ 75742477 │          66066300 │             219048 │                      -72833 │                             9529961 │                   181472 │                             9348489 │                                      2934685 │                     1869698 │                      7478791 │       1028334 │     nan │\n",
            "╘════╧═════════════════════════════════════╧═══════════════╧════════════════════════╧══════════╧═══════════════════╧════════════════════╧═════════════════════════════╧═════════════════════════════════════╧══════════════════════════╧═════════════════════════════════════╧══════════════════════════════════════════════╧═════════════════════════════╧══════════════════════════════╧═══════════════╧═════════╛\n",
            "\n",
            "Estatísticas Descritivas:\n",
            "╒═══════╤══════════════╤═══════════════════╤════════════════════╤═════════════════════════════╤═════════════════════════════════════╤══════════════════════════╤═════════════════════════════════════╤══════════════════════════════════════════════╤═════════════════════════════╤══════════════════════════════╤══════════════════╕\n",
            "│       │       Wagers │   Patron Winnings │   Cancelled Wagers │   Monthly Resettlements (3) │   Online Sports Wagering Win/(Loss) │   Federal Excise Tax (4) │   Unadjusted Monthly Gaming Revenue │   Promotional Coupons or Credits Wagered (5) │   Promotional Deduction (6) │   Total Gross Gaming Revenue │      Payment (7) │\n",
            "╞═══════╪══════════════╪═══════════════════╪════════════════════╪═════════════════════════════╪═════════════════════════════════════╪══════════════════════════╪═════════════════════════════════════╪══════════════════════════════════════════════╪═════════════════════════════╪══════════════════════════════╪══════════════════╡\n",
            "│ count │ 75           │      75           │                 75 │                        75   │                        75           │                     75   │                        75           │                                 75           │                75           │                 75           │     75           │\n",
            "├───────┼──────────────┼───────────────────┼────────────────────┼─────────────────────────────┼─────────────────────────────────────┼──────────────────────────┼─────────────────────────────────────┼──────────────────────────────────────────────┼─────────────────────────────┼──────────────────────────────┼──────────────────┤\n",
            "│ mean  │  4.00398e+07 │       3.60309e+07 │             180422 │                     25199.4 │                         3.8033e+06  │                  96960.6 │                         3.70634e+06 │                                  1.094e+06   │            758716           │                  2.94762e+06 │ 405298           │\n",
            "├───────┼──────────────┼───────────────────┼────────────────────┼─────────────────────────────┼─────────────────────────────────────┼──────────────────────────┼─────────────────────────────────────┼──────────────────────────────────────────────┼─────────────────────────────┼──────────────────────────────┼──────────────────┤\n",
            "│ std   │  2.39588e+07 │       2.14858e+07 │             167676 │                     70275.4 │                         2.74191e+06 │                  57604.3 │                         2.69157e+06 │                             832512           │            556789           │                  2.16281e+06 │ 297386           │\n",
            "├───────┼──────────────┼───────────────────┼────────────────────┼─────────────────────────────┼─────────────────────────────────────┼──────────────────────────┼─────────────────────────────────────┼──────────────────────────────────────────────┼─────────────────────────────┼──────────────────────────────┼──────────────────┤\n",
            "│ min   │  3.24654e+06 │       2.90134e+06 │              11400 │                   -264510   │                    293732           │                   8013   │                    285720           │                             164324           │             71430           │             214290           │  29465           │\n",
            "├───────┼──────────────┼───────────────────┼────────────────────┼─────────────────────────────┼─────────────────────────────────────┼──────────────────────────┼─────────────────────────────────────┼──────────────────────────────────────────────┼─────────────────────────────┼──────────────────────────────┼──────────────────┤\n",
            "│ 25%   │  1.36645e+07 │       1.28381e+07 │              54024 │                        90   │                    966650           │                  34036   │                    936374           │                             302536           │            199528           │             718458           │  98788           │\n",
            "├───────┼──────────────┼───────────────────┼────────────────────┼─────────────────────────────┼─────────────────────────────────────┼──────────────────────────┼─────────────────────────────────────┼──────────────────────────────────────────────┼─────────────────────────────┼──────────────────────────────┼──────────────────┤\n",
            "│ 50%   │  4.10638e+07 │       3.61166e+07 │             150176 │                     10471   │                         3.45452e+06 │                  98380   │                         3.30353e+06 │                             883084           │            759271           │                  2.6154e+06  │ 359618           │\n",
            "├───────┼──────────────┼───────────────────┼────────────────────┼─────────────────────────────┼─────────────────────────────────────┼──────────────────────────┼─────────────────────────────────────┼──────────────────────────────────────────────┼─────────────────────────────┼──────────────────────────────┼──────────────────┤\n",
            "│ 75%   │  6.07718e+07 │       5.54383e+07 │             225835 │                     46798.5 │                         6.05785e+06 │                 146991   │                         5.90438e+06 │                                  1.84937e+06 │                 1.16618e+06 │                  4.73539e+06 │ 651116           │\n",
            "├───────┼──────────────┼───────────────────┼────────────────────┼─────────────────────────────┼─────────────────────────────────────┼──────────────────────────┼─────────────────────────────────────┼──────────────────────────────────────────────┼─────────────────────────────┼──────────────────────────────┼──────────────────┤\n",
            "│ max   │  8.8261e+07  │       8.04924e+07 │             888312 │                    370199   │                         9.52996e+06 │                 212331   │                         9.34849e+06 │                                  2.99603e+06 │                 1.98739e+06 │                  7.63954e+06 │      1.05044e+06 │\n",
            "╘═══════╧══════════════╧═══════════════════╧════════════════════╧═════════════════════════════╧═════════════════════════════════════╧══════════════════════════╧═════════════════════════════════════╧══════════════════════════════════════════════╧═════════════════════════════╧══════════════════════════════╧══════════════════╛\n",
            "\n",
            "Informações Gerais:\n",
            "<class 'pandas.core.frame.DataFrame'>\n",
            "RangeIndex: 75 entries, 0 to 74\n",
            "Data columns (total 15 columns):\n",
            " #   Column                                      Non-Null Count  Dtype \n",
            "---  ------                                      --------------  ----- \n",
            " 0   Licensee                                    75 non-null     object\n",
            " 1   Fiscal Year                                 75 non-null     object\n",
            " 2   Month Ending                                75 non-null     object\n",
            " 3   Wagers                                      75 non-null     int64 \n",
            " 4   Patron Winnings                             75 non-null     int64 \n",
            " 5   Cancelled Wagers                            75 non-null     int64 \n",
            " 6   Monthly Resettlements (3)                   75 non-null     int64 \n",
            " 7   Online Sports Wagering Win/(Loss)           75 non-null     int64 \n",
            " 8   Federal Excise Tax (4)                      75 non-null     int64 \n",
            " 9   Unadjusted Monthly Gaming Revenue           75 non-null     int64 \n",
            " 10  Promotional Coupons or Credits Wagered (5)  75 non-null     int64 \n",
            " 11  Promotional Deduction (6)                   75 non-null     int64 \n",
            " 12  Total Gross Gaming Revenue                  75 non-null     int64 \n",
            " 13  Payment (7)                                 75 non-null     int64 \n",
            " 14  Notes                                       7 non-null      object\n",
            "dtypes: int64(11), object(4)\n",
            "memory usage: 8.9+ KB\n",
            "\n"
          ]
        }
      ]
    },
    {
      "cell_type": "markdown",
      "source": [
        "**Perguntas do dataset**"
      ],
      "metadata": {
        "id": "zJVcQ969jCiO"
      }
    },
    {
      "cell_type": "markdown",
      "source": [
        "**1- Quantas apostas foram canceladas em cada ano fiscal?**"
      ],
      "metadata": {
        "id": "rSvWNovsj0qW"
      }
    },
    {
      "cell_type": "code",
      "source": [
        "conn = sqlite3.connect(':memory:')\n",
        "dataframe.to_sql('my_table', conn, index=False)\n",
        "\n",
        "query = \"\"\"\n",
        "SELECT \"Fiscal Year\", SUM(\"Cancelled Wagers\") AS total_cancelled_wagers\n",
        "FROM my_table\n",
        "GROUP BY \"Fiscal Year\";\n",
        "\"\"\"\n",
        "\n",
        "query = pd.read_sql_query(query, conn)\n",
        "\n",
        "print(tabulate(query, headers='keys', tablefmt='pretty', showindex=False))\n",
        "\n",
        "conn.close()"
      ],
      "metadata": {
        "id": "aNDPOO-Tj7zH",
        "colab": {
          "base_uri": "https://localhost:8080/"
        },
        "outputId": "00b618a2-3ed8-46c2-8d89-f84e8d6579b2"
      },
      "execution_count": 9,
      "outputs": [
        {
          "output_type": "stream",
          "name": "stdout",
          "text": [
            "+-------------+------------------------+\n",
            "| Fiscal Year | total_cancelled_wagers |\n",
            "+-------------+------------------------+\n",
            "|   2021/22   |        4311918         |\n",
            "|   2022/23   |        7564379         |\n",
            "|   2023/24   |        1655374         |\n",
            "+-------------+------------------------+\n"
          ]
        }
      ]
    },
    {
      "cell_type": "code",
      "source": [
        "query = dataframe.groupby('Fiscal Year')['Cancelled Wagers'].sum().reset_index()\n",
        "\n",
        "print(tabulate(query, headers='keys', tablefmt='pretty', showindex=False))"
      ],
      "metadata": {
        "id": "-u08SKtBlRG2",
        "colab": {
          "base_uri": "https://localhost:8080/"
        },
        "outputId": "229c640e-89eb-48de-beac-ce5e23a44644"
      },
      "execution_count": 10,
      "outputs": [
        {
          "output_type": "stream",
          "name": "stdout",
          "text": [
            "+-------------+------------------+\n",
            "| Fiscal Year | Cancelled Wagers |\n",
            "+-------------+------------------+\n",
            "|   2021/22   |     4311918      |\n",
            "|   2022/23   |     7564379      |\n",
            "|   2023/24   |     1655374      |\n",
            "+-------------+------------------+\n"
          ]
        }
      ]
    },
    {
      "cell_type": "markdown",
      "source": [
        "**2-Qual é a média da receita mensal não ajustada de jogos para cada ano fiscal?**"
      ],
      "metadata": {
        "id": "uEbpT94SzShG"
      }
    },
    {
      "cell_type": "code",
      "source": [
        "conn = sqlite3.connect(':memory:')\n",
        "dataframe.to_sql('my_table', conn, index=False)\n",
        "\n",
        "query = \"\"\"\n",
        "SELECT \"Fiscal Year\", AVG(\"Unadjusted Monthly Gaming Revenue\") AS avg_gaming_revenue\n",
        "FROM my_table\n",
        "GROUP BY \"Fiscal Year\";\n",
        "\"\"\"\n",
        "\n",
        "query = pd.read_sql_query(query, conn)\n",
        "print(tabulate(query, headers='keys', tablefmt='pretty', showindex=False))\n",
        "\n",
        "conn.close()"
      ],
      "metadata": {
        "id": "z-16WGDpmL4m",
        "colab": {
          "base_uri": "https://localhost:8080/"
        },
        "outputId": "7cdff86f-170f-4713-d75a-53239514c1c3"
      },
      "execution_count": 11,
      "outputs": [
        {
          "output_type": "stream",
          "name": "stdout",
          "text": [
            "+-------------+--------------------+\n",
            "| Fiscal Year | avg_gaming_revenue |\n",
            "+-------------+--------------------+\n",
            "|   2021/22   | 2775257.296296296  |\n",
            "|   2022/23   | 4187323.5555555555 |\n",
            "|   2023/24   | 4358314.416666667  |\n",
            "+-------------+--------------------+\n"
          ]
        }
      ]
    },
    {
      "cell_type": "code",
      "source": [
        "query = dataframe.groupby('Fiscal Year')['Unadjusted Monthly Gaming Revenue'].mean().reset_index()\n",
        "\n",
        "print(tabulate(query, headers='keys', tablefmt='pretty', showindex=False))"
      ],
      "metadata": {
        "id": "Tef8dOIJmmMX",
        "colab": {
          "base_uri": "https://localhost:8080/"
        },
        "outputId": "980a7aec-0153-4e4c-e519-fb0531215ba6"
      },
      "execution_count": 12,
      "outputs": [
        {
          "output_type": "stream",
          "name": "stdout",
          "text": [
            "+-------------+-----------------------------------+\n",
            "| Fiscal Year | Unadjusted Monthly Gaming Revenue |\n",
            "+-------------+-----------------------------------+\n",
            "|   2021/22   |         2775257.296296296         |\n",
            "|   2022/23   |        4187323.5555555555         |\n",
            "|   2023/24   |         4358314.416666667         |\n",
            "+-------------+-----------------------------------+\n"
          ]
        }
      ]
    },
    {
      "cell_type": "markdown",
      "source": [
        "\n",
        "**3- Quais foram os 5 maiores reassentamentos mensais em 2023?**"
      ],
      "metadata": {
        "id": "PaakoyeKzZYE"
      }
    },
    {
      "cell_type": "code",
      "source": [
        "conn = sqlite3.connect(':memory:')\n",
        "dataframe.to_sql('my_table', conn, index=False)\n",
        "\n",
        "query= \"\"\"\n",
        "SELECT *\n",
        "FROM my_table\n",
        "WHERE \"Fiscal Year\" = '2023/24'\n",
        "ORDER BY \"Monthly Resettlements (3)\" DESC\n",
        "LIMIT 5;\n",
        "\"\"\"\n",
        "\n",
        "query = pd.read_sql_query(query, conn)\n",
        "\n",
        "print(tabulate(query, headers='keys', tablefmt='pretty'))\n",
        "\n",
        "conn.close()"
      ],
      "metadata": {
        "id": "0EvqFpc8rVuD",
        "colab": {
          "base_uri": "https://localhost:8080/"
        },
        "outputId": "f5970c79-ccbd-47df-d648-860f5ea4a5e4"
      },
      "execution_count": 13,
      "outputs": [
        {
          "output_type": "stream",
          "name": "stdout",
          "text": [
            "+---+----------------------+-------------+------------------------+----------+-----------------+------------------+---------------------------+-----------------------------------+------------------------+-----------------------------------+--------------------------------------------+---------------------------+----------------------------+-------------+-------+\n",
            "|   |       Licensee       | Fiscal Year |      Month Ending      |  Wagers  | Patron Winnings | Cancelled Wagers | Monthly Resettlements (3) | Online Sports Wagering Win/(Loss) | Federal Excise Tax (4) | Unadjusted Monthly Gaming Revenue | Promotional Coupons or Credits Wagered (5) | Promotional Deduction (6) | Total Gross Gaming Revenue | Payment (7) | Notes |\n",
            "+---+----------------------+-------------+------------------------+----------+-----------------+------------------+---------------------------+-----------------------------------+------------------------+-----------------------------------+--------------------------------------------+---------------------------+----------------------------+-------------+-------+\n",
            "| 0 | Mohegan Digital, LLC |   2023/24   | 08/31/2023 12:00:00 AM | 37621550 |    33644709     |      193465      |           58189           |              3725189              |         91098          |              3634091              |                   989043                   |          726818           |          2907273           |   399750    |       |\n",
            "| 1 | Mohegan Digital, LLC |   2023/24   | 10/31/2023 12:00:00 AM | 75578037 |    66242159     |      114432      |           51957           |              9169489              |         181797         |              8987693              |                  2744995                   |          1348154          |          7639539           |   1050437   |       |\n",
            "| 2 |   CT Lottery Corp    |   2023/24   | 08/31/2023 12:00:00 AM | 10162805 |     9166153     |      45952       |           9550            |              941150               |         25292          |              915858               |                   233468                   |          183172           |           732686           |   100744    |       |\n",
            "| 3 |   CT Lottery Corp    |   2023/24   | 07/31/2023 12:00:00 AM | 9298914  |     8395848     |      51784       |           6546            |              844736               |         23118          |              821618               |                   164324                   |          164324           |           657294           |    90378    |       |\n",
            "| 4 |   CT Lottery Corp    |   2023/24   | 10/31/2023 12:00:00 AM | 13331951 |    11960580     |      25745       |           6502            |              1339123              |         33265          |              1305858              |                   260578                   |          195879           |          1109979           |   152622    |       |\n",
            "+---+----------------------+-------------+------------------------+----------+-----------------+------------------+---------------------------+-----------------------------------+------------------------+-----------------------------------+--------------------------------------------+---------------------------+----------------------------+-------------+-------+\n"
          ]
        }
      ]
    },
    {
      "cell_type": "code",
      "source": [
        "query = dataframe[dataframe['Fiscal Year'] == '2023/24'].nlargest(5, 'Monthly Resettlements (3)')\n",
        "\n",
        "print(tabulate(query, headers='keys', tablefmt='pretty'))"
      ],
      "metadata": {
        "id": "fQTyRX0hohJn",
        "colab": {
          "base_uri": "https://localhost:8080/"
        },
        "outputId": "624a1336-66af-435c-9cf9-3af02e1941ea"
      },
      "execution_count": 14,
      "outputs": [
        {
          "output_type": "stream",
          "name": "stdout",
          "text": [
            "+----+----------------------+-------------+------------------------+----------+-----------------+------------------+---------------------------+-----------------------------------+------------------------+-----------------------------------+--------------------------------------------+---------------------------+----------------------------+-------------+-------+\n",
            "|    |       Licensee       | Fiscal Year |      Month Ending      |  Wagers  | Patron Winnings | Cancelled Wagers | Monthly Resettlements (3) | Online Sports Wagering Win/(Loss) | Federal Excise Tax (4) | Unadjusted Monthly Gaming Revenue | Promotional Coupons or Credits Wagered (5) | Promotional Deduction (6) | Total Gross Gaming Revenue | Payment (7) | Notes |\n",
            "+----+----------------------+-------------+------------------------+----------+-----------------+------------------+---------------------------+-----------------------------------+------------------------+-----------------------------------+--------------------------------------------+---------------------------+----------------------------+-------------+-------+\n",
            "| 7  | Mohegan Digital, LLC |   2023/24   | 08/31/2023 12:00:00 AM | 37621550 |    33644709     |      193465      |           58189           |              3725189              |         91098          |              3634091              |                   989043                   |          726818           |          2907273           |   399750    |  nan  |\n",
            "| 1  | Mohegan Digital, LLC |   2023/24   | 10/31/2023 12:00:00 AM | 75578037 |    66242159     |      114432      |           51957           |              9169489              |         181797         |              8987693              |                  2744995                   |          1348154          |          7639539           |   1050437   |  nan  |\n",
            "| 8  |   CT Lottery Corp    |   2023/24   | 08/31/2023 12:00:00 AM | 10162805 |     9166153     |      45952       |           9550            |              941150               |         25292          |              915858               |                   233468                   |          183172           |           732686           |   100744    |  nan  |\n",
            "| 11 |   CT Lottery Corp    |   2023/24   | 07/31/2023 12:00:00 AM | 9298914  |     8395848     |      51784       |           6546            |              844736               |         23118          |              821618               |                   164324                   |          164324           |           657294           |    90378    |  nan  |\n",
            "| 2  |   CT Lottery Corp    |   2023/24   | 10/31/2023 12:00:00 AM | 13331951 |    11960580     |      25745       |           6502            |              1339123              |         33265          |              1305858              |                   260578                   |          195879           |          1109979           |   152622    |  nan  |\n",
            "+----+----------------------+-------------+------------------------+----------+-----------------+------------------+---------------------------+-----------------------------------+------------------------+-----------------------------------+--------------------------------------------+---------------------------+----------------------------+-------------+-------+\n"
          ]
        }
      ]
    },
    {
      "cell_type": "markdown",
      "source": [
        "**4- Quais foram as 10 maiores deduções promocionais em 2021?**"
      ],
      "metadata": {
        "id": "xRXiA-Iyz7dk"
      }
    },
    {
      "cell_type": "code",
      "source": [
        "conn = sqlite3.connect(':memory:')\n",
        "dataframe.to_sql('my_table', conn, index=False)\n",
        "\n",
        "query = \"\"\"\n",
        "SELECT *\n",
        "FROM my_table\n",
        "WHERE \"Fiscal Year\" = '2021/22'\n",
        "ORDER BY [Promotional Deduction (6)] DESC\n",
        "LIMIT 10;\n",
        "\"\"\"\n",
        "\n",
        "query = pd.read_sql_query(query, conn)\n",
        "\n",
        "print(tabulate(query, headers='keys', tablefmt='pretty', showindex=False))\n",
        "\n",
        "conn.close()"
      ],
      "metadata": {
        "id": "QwudNaYepT4q",
        "colab": {
          "base_uri": "https://localhost:8080/"
        },
        "outputId": "878859fb-8d5f-4925-8474-4ee6cf4f268d"
      },
      "execution_count": 15,
      "outputs": [
        {
          "output_type": "stream",
          "name": "stdout",
          "text": [
            "+-------------------------------------+-------------+------------------------+----------+-----------------+------------------+---------------------------+-----------------------------------+------------------------+-----------------------------------+--------------------------------------------+---------------------------+----------------------------+-------------+-------+\n",
            "|              Licensee               | Fiscal Year |      Month Ending      |  Wagers  | Patron Winnings | Cancelled Wagers | Monthly Resettlements (3) | Online Sports Wagering Win/(Loss) | Federal Excise Tax (4) | Unadjusted Monthly Gaming Revenue | Promotional Coupons or Credits Wagered (5) | Promotional Deduction (6) | Total Gross Gaming Revenue | Payment (7) | Notes |\n",
            "+-------------------------------------+-------------+------------------------+----------+-----------------+------------------+---------------------------+-----------------------------------+------------------------+-----------------------------------+--------------------------------------------+---------------------------+----------------------------+-------------+-------+\n",
            "|        Mohegan Digital, LLC         |   2021/22   | 11/30/2021 12:00:00 AM | 58999340 |    50751107     |      127550      |           30748           |              8089935              |         140366         |              7949569              |                  2725338                   |          1987392          |          5962177           |   819799    |       |\n",
            "| MPI Master Wagering License CT, LLC |   2021/22   | 11/30/2021 12:00:00 AM | 60031024 |    52870165     |      164994      |           28431           |              6967434              |         143877         |              6823557              |                  2045623                   |          1705889          |          5117667           |   703679    |   8   |\n",
            "| MPI Master Wagering License CT, LLC |   2021/22   | 01/31/2022 12:00:00 AM | 73721647 |    67172043     |      181313      |           28687           |              6339605              |         177370         |              6162234              |                  2194575                   |          1540559          |          4621676           |   635480    |   8   |\n",
            "|        Mohegan Digital, LLC         |   2021/22   | 05/31/2022 12:00:00 AM | 47301038 |    41913237     |      296742      |           -6865           |              5097924              |         114362         |              4983562              |                  1259496                   |          1245890          |          3737671           |   513930    |       |\n",
            "|        Mohegan Digital, LLC         |   2021/22   | 03/31/2022 12:00:00 AM | 56296979 |    51215571     |      185142      |           61676           |              4834590              |         137199         |              4697391              |                  1232187                   |          1174348          |          3523044           |   484418    |       |\n",
            "|        Mohegan Digital, LLC         |   2021/22   | 04/30/2022 12:00:00 AM | 47280831 |    41956599     |      248050      |           19113           |              5057068              |         114687         |              4942381              |                  1158002                   |          1158002          |          3784379           |   520352    |       |\n",
            "| MPI Master Wagering License CT, LLC |   2021/22   | 12/31/2021 12:00:00 AM | 68869666 |    64101091     |      358976      |           -4407           |              4414006              |         165577         |              4248429              |                  2027294                   |          1062107          |          3186322           |   438119    |   8   |\n",
            "| MPI Master Wagering License CT, LLC |   2021/22   | 10/31/2021 12:00:00 AM | 23770250 |    20117086     |      43488       |           -4121           |              3613797              |         53427          |              3560370              |                  2119449                   |          890092           |          2670277           |   367163    |  8,9  |\n",
            "|        Mohegan Digital, LLC         |   2021/22   | 12/31/2021 12:00:00 AM | 63315497 |    59439866     |      224237      |           10397           |              3640998              |         153793         |              3487205              |                  1574087                   |          871801           |          2615404           |   359618    |       |\n",
            "| MPI Master Wagering License CT, LLC |   2021/22   | 03/31/2022 12:00:00 AM | 61512587 |    57887273     |      137393      |           33404           |              3454517              |         150987         |              3303530              |                   829706                   |          825882           |          2477647           |   340677    |   8   |\n",
            "+-------------------------------------+-------------+------------------------+----------+-----------------+------------------+---------------------------+-----------------------------------+------------------------+-----------------------------------+--------------------------------------------+---------------------------+----------------------------+-------------+-------+\n"
          ]
        }
      ]
    },
    {
      "cell_type": "code",
      "source": [
        "query = dataframe[dataframe['Fiscal Year'] == '2021/22'].nlargest(10, 'Promotional Deduction (6)')\n",
        "\n",
        "print(tabulate(query, headers='keys', tablefmt='pretty', showindex=False))"
      ],
      "metadata": {
        "id": "av7rdgOzpVyP",
        "colab": {
          "base_uri": "https://localhost:8080/"
        },
        "outputId": "97fac589-5803-47f5-d093-74b77ab4d344"
      },
      "execution_count": 16,
      "outputs": [
        {
          "output_type": "stream",
          "name": "stdout",
          "text": [
            "+-------------------------------------+-------------+------------------------+----------+-----------------+------------------+---------------------------+-----------------------------------+------------------------+-----------------------------------+--------------------------------------------+---------------------------+----------------------------+-------------+-------+\n",
            "|              Licensee               | Fiscal Year |      Month Ending      |  Wagers  | Patron Winnings | Cancelled Wagers | Monthly Resettlements (3) | Online Sports Wagering Win/(Loss) | Federal Excise Tax (4) | Unadjusted Monthly Gaming Revenue | Promotional Coupons or Credits Wagered (5) | Promotional Deduction (6) | Total Gross Gaming Revenue | Payment (7) | Notes |\n",
            "+-------------------------------------+-------------+------------------------+----------+-----------------+------------------+---------------------------+-----------------------------------+------------------------+-----------------------------------+--------------------------------------------+---------------------------+----------------------------+-------------+-------+\n",
            "|        Mohegan Digital, LLC         |   2021/22   | 11/30/2021 12:00:00 AM | 58999340 |    50751107     |      127550      |           30748           |              8089935              |         140366         |              7949569              |                  2725338                   |          1987392          |          5962177           |   819799    |  nan  |\n",
            "| MPI Master Wagering License CT, LLC |   2021/22   | 11/30/2021 12:00:00 AM | 60031024 |    52870165     |      164994      |           28431           |              6967434              |         143877         |              6823557              |                  2045623                   |          1705889          |          5117667           |   703679    |   8   |\n",
            "| MPI Master Wagering License CT, LLC |   2021/22   | 01/31/2022 12:00:00 AM | 73721647 |    67172043     |      181313      |           28687           |              6339605              |         177370         |              6162234              |                  2194575                   |          1540559          |          4621676           |   635480    |   8   |\n",
            "|        Mohegan Digital, LLC         |   2021/22   | 05/31/2022 12:00:00 AM | 47301038 |    41913237     |      296742      |           -6865           |              5097924              |         114362         |              4983562              |                  1259496                   |          1245890          |          3737671           |   513930    |  nan  |\n",
            "|        Mohegan Digital, LLC         |   2021/22   | 03/31/2022 12:00:00 AM | 56296979 |    51215571     |      185142      |           61676           |              4834590              |         137199         |              4697391              |                  1232187                   |          1174348          |          3523044           |   484418    |  nan  |\n",
            "|        Mohegan Digital, LLC         |   2021/22   | 04/30/2022 12:00:00 AM | 47280831 |    41956599     |      248050      |           19113           |              5057068              |         114687         |              4942381              |                  1158002                   |          1158002          |          3784379           |   520352    |  nan  |\n",
            "| MPI Master Wagering License CT, LLC |   2021/22   | 12/31/2021 12:00:00 AM | 68869666 |    64101091     |      358976      |           -4407           |              4414006              |         165577         |              4248429              |                  2027294                   |          1062107          |          3186322           |   438119    |   8   |\n",
            "| MPI Master Wagering License CT, LLC |   2021/22   | 10/31/2021 12:00:00 AM | 23770250 |    20117086     |      43488       |           -4121           |              3613797              |         53427          |              3560370              |                  2119449                   |          890092           |          2670277           |   367163    |  8,9  |\n",
            "|        Mohegan Digital, LLC         |   2021/22   | 12/31/2021 12:00:00 AM | 63315497 |    59439866     |      224237      |           10397           |              3640998              |         153793         |              3487205              |                  1574087                   |          871801           |          2615404           |   359618    |  nan  |\n",
            "| MPI Master Wagering License CT, LLC |   2021/22   | 03/31/2022 12:00:00 AM | 61512587 |    57887273     |      137393      |           33404           |              3454517              |         150987         |              3303530              |                   829706                   |          825882           |          2477647           |   340677    |   8   |\n",
            "+-------------------------------------+-------------+------------------------+----------+-----------------+------------------+---------------------------+-----------------------------------+------------------------+-----------------------------------+--------------------------------------------+---------------------------+----------------------------+-------------+-------+\n"
          ]
        }
      ]
    },
    {
      "cell_type": "markdown",
      "source": [
        "**5- Quantos registros existem para cada licenciado?**"
      ],
      "metadata": {
        "id": "z5tQ1dxG0BGE"
      }
    },
    {
      "cell_type": "code",
      "source": [
        "conn = sqlite3.connect(':memory:')\n",
        "dataframe.to_sql('my_table', conn, index=False)\n",
        "\n",
        "query = \"\"\"\n",
        "SELECT Licensee, COUNT(*) AS counts\n",
        "FROM my_table\n",
        "GROUP BY Licensee;\n",
        "\"\"\"\n",
        "\n",
        "query = pd.read_sql_query(query, conn)\n",
        "\n",
        "print(tabulate(query, headers='keys', tablefmt='pretty', showindex=False))\n",
        "\n",
        "conn.close()"
      ],
      "metadata": {
        "id": "al2O1VPYpYCH",
        "colab": {
          "base_uri": "https://localhost:8080/"
        },
        "outputId": "542f2db7-69d3-4bd6-ed2f-b30efb2dcaea"
      },
      "execution_count": 17,
      "outputs": [
        {
          "output_type": "stream",
          "name": "stdout",
          "text": [
            "+-------------------------------------+--------+\n",
            "|              Licensee               | counts |\n",
            "+-------------------------------------+--------+\n",
            "|           CT Lottery Corp           |   25   |\n",
            "| MPI Master Wagering License CT, LLC |   25   |\n",
            "|        Mohegan Digital, LLC         |   25   |\n",
            "+-------------------------------------+--------+\n"
          ]
        }
      ]
    },
    {
      "cell_type": "code",
      "source": [
        "query = dataframe['Licensee'].value_counts().reset_index()\n",
        "query.columns = ['Licensee', 'counts']\n",
        "\n",
        "print(tabulate(query, headers='keys', tablefmt='pretty', showindex=False))"
      ],
      "metadata": {
        "id": "ILGb-czEpZpP",
        "colab": {
          "base_uri": "https://localhost:8080/"
        },
        "outputId": "65ecbb71-feef-48d1-b573-0a9e0782e891"
      },
      "execution_count": 18,
      "outputs": [
        {
          "output_type": "stream",
          "name": "stdout",
          "text": [
            "+-------------------------------------+--------+\n",
            "|              Licensee               | counts |\n",
            "+-------------------------------------+--------+\n",
            "| MPI Master Wagering License CT, LLC |   25   |\n",
            "|        Mohegan Digital, LLC         |   25   |\n",
            "|           CT Lottery Corp           |   25   |\n",
            "+-------------------------------------+--------+\n"
          ]
        }
      ]
    },
    {
      "cell_type": "markdown",
      "source": [
        "**6- Qual é o valor total de ganhos de patronos para o licenciado CT Lottery Corp em 2021?**"
      ],
      "metadata": {
        "id": "-TqnOj0T0HKj"
      }
    },
    {
      "cell_type": "code",
      "source": [
        "conn = sqlite3.connect(':memory:')\n",
        "dataframe.to_sql('my_table', conn, index=False)\n",
        "\n",
        "query = \"\"\"\n",
        "SELECT SUM(\"Patron Winnings\") AS total_patron_winnings\n",
        "FROM my_table\n",
        "WHERE \"Licensee\" = 'CT Lottery Corp' AND \"Fiscal Year\" LIKE '2021%';\n",
        "\"\"\"\n",
        "\n",
        "query = pd.read_sql_query(query, conn)\n",
        "\n",
        "print(tabulate(query, headers='keys', tablefmt='pretty', showindex=False))\n",
        "\n",
        "conn.close()"
      ],
      "metadata": {
        "id": "bncrKefnpdOs",
        "colab": {
          "base_uri": "https://localhost:8080/"
        },
        "outputId": "8cc5cb5a-afba-45a8-85f4-42a727b3d6cf"
      },
      "execution_count": 19,
      "outputs": [
        {
          "output_type": "stream",
          "name": "stdout",
          "text": [
            "+-----------------------+\n",
            "| total_patron_winnings |\n",
            "+-----------------------+\n",
            "|       89189850        |\n",
            "+-----------------------+\n"
          ]
        }
      ]
    },
    {
      "cell_type": "code",
      "source": [
        "query = dataframe.loc[(dataframe['Licensee'] == 'CT Lottery Corp') & (dataframe['Fiscal Year'].str.startswith('2021')), 'Patron Winnings'].sum()\n",
        "\n",
        "print(tabulate({\"total_patron_winnings\": [query]}, headers='keys', tablefmt='pretty', showindex=False))"
      ],
      "metadata": {
        "id": "QftNZ6FopfBT",
        "colab": {
          "base_uri": "https://localhost:8080/"
        },
        "outputId": "280e456d-64a7-4499-c4eb-d3abd2c596c3"
      },
      "execution_count": 20,
      "outputs": [
        {
          "output_type": "stream",
          "name": "stdout",
          "text": [
            "+-----------------------+\n",
            "| total_patron_winnings |\n",
            "+-----------------------+\n",
            "|       89189850        |\n",
            "+-----------------------+\n"
          ]
        }
      ]
    },
    {
      "cell_type": "markdown",
      "source": [
        "**7- Quais são as 15 maiores apostas para o ano fiscal de 2022?**"
      ],
      "metadata": {
        "id": "2e7ZAgFl0HQY"
      }
    },
    {
      "cell_type": "code",
      "source": [
        "conn = sqlite3.connect(':memory:')\n",
        "dataframe.to_sql('my_table', conn, index=False)\n",
        "\n",
        "query = \"\"\"\n",
        "SELECT *\n",
        "FROM my_table\n",
        "WHERE \"Fiscal Year\" LIKE '2022%'\n",
        "ORDER BY \"Wagers\" DESC\n",
        "LIMIT 15;\n",
        "\"\"\"\n",
        "\n",
        "query = pd.read_sql_query(query, conn)\n",
        "\n",
        "print(tabulate(query, headers='keys', tablefmt='pretty', showindex=False))\n",
        "\n",
        "conn.close()"
      ],
      "metadata": {
        "id": "xNWgstnpphLT",
        "colab": {
          "base_uri": "https://localhost:8080/"
        },
        "outputId": "e749f10c-4238-4a07-88aa-f6ca71b12072"
      },
      "execution_count": 21,
      "outputs": [
        {
          "output_type": "stream",
          "name": "stdout",
          "text": [
            "+-------------------------------------+-------------+------------------------+----------+-----------------+------------------+---------------------------+-----------------------------------+------------------------+-----------------------------------+--------------------------------------------+---------------------------+----------------------------+-------------+-------+\n",
            "|              Licensee               | Fiscal Year |      Month Ending      |  Wagers  | Patron Winnings | Cancelled Wagers | Monthly Resettlements (3) | Online Sports Wagering Win/(Loss) | Federal Excise Tax (4) | Unadjusted Monthly Gaming Revenue | Promotional Coupons or Credits Wagered (5) | Promotional Deduction (6) | Total Gross Gaming Revenue | Payment (7) | Notes |\n",
            "+-------------------------------------+-------------+------------------------+----------+-----------------+------------------+---------------------------+-----------------------------------+------------------------+-----------------------------------+--------------------------------------------+---------------------------+----------------------------+-------------+-------+\n",
            "| MPI Master Wagering License CT, LLC |   2022/23   | 10/31/2022 12:00:00 AM | 73377779 |    67349094     |      429916      |           48536           |              5550233              |         179171         |              5371062              |                  1077408                   |          1074212          |          4296849           |   590817    |       |\n",
            "| MPI Master Wagering License CT, LLC |   2022/23   | 01/31/2023 12:00:00 AM | 72443757 |    65207806     |      888312      |           64651           |              6282987              |         175023         |              6107964              |                  1342576                   |          1221593          |          4886371           |   671876    |       |\n",
            "|        Mohegan Digital, LLC         |   2022/23   | 11/30/2022 12:00:00 AM | 69131840 |    59618119     |      207956      |           46597           |              9259168              |         167935         |              9091233              |                  1749925                   |          1749925          |          7341308           |   1009430   |       |\n",
            "| MPI Master Wagering License CT, LLC |   2022/23   | 11/30/2022 12:00:00 AM | 69000492 |    62906213     |      124727      |           52706           |              5916846              |         169448         |              5747398              |                   883084                   |          883084           |          4864313           |   668843    |       |\n",
            "| MPI Master Wagering License CT, LLC |   2022/23   | 03/31/2023 12:00:00 AM | 68839733 |    61688546     |      171172      |          146530           |              6833485              |         168668         |              6664817              |                   931470                   |          931470           |          5733347           |   788335    |       |\n",
            "|        Mohegan Digital, LLC         |   2022/23   | 12/31/2022 12:00:00 AM | 68622351 |    60046697     |      211471      |           50835           |              8313348              |         166314         |              8147034              |                  1885314                   |          1629407          |          6517627           |   896174    |       |\n",
            "| MPI Master Wagering License CT, LLC |   2022/23   | 12/31/2022 12:00:00 AM | 67773378 |    62213083     |      64333       |          168505           |              5327456              |         166463         |              5160994              |                   905734                   |          905734           |          4255259           |   585098    |       |\n",
            "|        Mohegan Digital, LLC         |   2022/23   | 01/31/2023 12:00:00 AM | 67274953 |    57056212     |      881477      |          127060           |              9210202              |         160658         |              9049544              |                  2130210                   |          1809909          |          7239635           |   995450    |       |\n",
            "|        Mohegan Digital, LLC         |   2022/23   | 10/31/2022 12:00:00 AM | 66256599 |    57720086     |      506360      |          -69005           |              8099159              |         159129         |              7940030              |                  2098682                   |          1588006          |          6352024           |   873403    |       |\n",
            "|        Mohegan Digital, LLC         |   2022/23   | 03/31/2023 12:00:00 AM | 65687967 |    58128510     |      127340      |           41404           |              7390714              |         158755         |              7231959              |                  2058723                   |          1446392          |          5785567           |   795516    |       |\n",
            "| MPI Master Wagering License CT, LLC |   2022/23   | 09/30/2022 12:00:00 AM | 58313129 |    50936725     |      214091      |           18573           |              7143740              |         139135         |              7004605              |                  2199505                   |          1751151          |          5253454           |   722350    |       |\n",
            "| MPI Master Wagering License CT, LLC |   2022/23   | 02/28/2023 12:00:00 AM | 57687441 |    53820465     |      123885      |          370199           |              3372892              |         139473         |              3233419              |                  1532891                   |          646684           |          2586735           |   355676    |       |\n",
            "|        Mohegan Digital, LLC         |   2022/23   | 04/30/2023 12:00:00 AM | 57181291 |    50502591     |      254356      |           -2508           |              6426852              |         138118         |              6288733              |                  1679689                   |          1257747          |          5030987           |   691761    |       |\n",
            "|        Mohegan Digital, LLC         |   2022/23   | 02/28/2023 12:00:00 AM | 57179870 |    50730775     |      137599      |          112645           |              6198851              |         137482         |              6061369              |                  2049352                   |          1212274          |          4849095           |   666751    |       |\n",
            "|        Mohegan Digital, LLC         |   2022/23   | 09/30/2022 12:00:00 AM | 53792250 |    46180357     |      318486      |           14683           |              7278724              |         128040         |              7150685              |                  2257935                   |          1787671          |          5363014           |   737414    |       |\n",
            "+-------------------------------------+-------------+------------------------+----------+-----------------+------------------+---------------------------+-----------------------------------+------------------------+-----------------------------------+--------------------------------------------+---------------------------+----------------------------+-------------+-------+\n"
          ]
        }
      ]
    },
    {
      "cell_type": "code",
      "source": [
        "query = dataframe.loc[(dataframe['Fiscal Year'].str.startswith('2022')) & (dataframe['Wagers'].notnull())].nlargest(15, 'Wagers')\n",
        "\n",
        "print(tabulate(query, headers='keys', tablefmt='pretty', showindex=False))"
      ],
      "metadata": {
        "id": "-tZcVE78pizr",
        "colab": {
          "base_uri": "https://localhost:8080/"
        },
        "outputId": "7f642de1-1b10-4c95-d8a3-171f9d8ccf0b"
      },
      "execution_count": 22,
      "outputs": [
        {
          "output_type": "stream",
          "name": "stdout",
          "text": [
            "+-------------------------------------+-------------+------------------------+----------+-----------------+------------------+---------------------------+-----------------------------------+------------------------+-----------------------------------+--------------------------------------------+---------------------------+----------------------------+-------------+-------+\n",
            "|              Licensee               | Fiscal Year |      Month Ending      |  Wagers  | Patron Winnings | Cancelled Wagers | Monthly Resettlements (3) | Online Sports Wagering Win/(Loss) | Federal Excise Tax (4) | Unadjusted Monthly Gaming Revenue | Promotional Coupons or Credits Wagered (5) | Promotional Deduction (6) | Total Gross Gaming Revenue | Payment (7) | Notes |\n",
            "+-------------------------------------+-------------+------------------------+----------+-----------------+------------------+---------------------------+-----------------------------------+------------------------+-----------------------------------+--------------------------------------------+---------------------------+----------------------------+-------------+-------+\n",
            "| MPI Master Wagering License CT, LLC |   2022/23   | 10/31/2022 12:00:00 AM | 73377779 |    67349094     |      429916      |           48536           |              5550233              |         179171         |              5371062              |                  1077408                   |          1074212          |          4296849           |   590817    |  nan  |\n",
            "| MPI Master Wagering License CT, LLC |   2022/23   | 01/31/2023 12:00:00 AM | 72443757 |    65207806     |      888312      |           64651           |              6282987              |         175023         |              6107964              |                  1342576                   |          1221593          |          4886371           |   671876    |  nan  |\n",
            "|        Mohegan Digital, LLC         |   2022/23   | 11/30/2022 12:00:00 AM | 69131840 |    59618119     |      207956      |           46597           |              9259168              |         167935         |              9091233              |                  1749925                   |          1749925          |          7341308           |   1009430   |  nan  |\n",
            "| MPI Master Wagering License CT, LLC |   2022/23   | 11/30/2022 12:00:00 AM | 69000492 |    62906213     |      124727      |           52706           |              5916846              |         169448         |              5747398              |                   883084                   |          883084           |          4864313           |   668843    |  nan  |\n",
            "| MPI Master Wagering License CT, LLC |   2022/23   | 03/31/2023 12:00:00 AM | 68839733 |    61688546     |      171172      |          146530           |              6833485              |         168668         |              6664817              |                   931470                   |          931470           |          5733347           |   788335    |  nan  |\n",
            "|        Mohegan Digital, LLC         |   2022/23   | 12/31/2022 12:00:00 AM | 68622351 |    60046697     |      211471      |           50835           |              8313348              |         166314         |              8147034              |                  1885314                   |          1629407          |          6517627           |   896174    |  nan  |\n",
            "| MPI Master Wagering License CT, LLC |   2022/23   | 12/31/2022 12:00:00 AM | 67773378 |    62213083     |      64333       |          168505           |              5327456              |         166463         |              5160994              |                   905734                   |          905734           |          4255259           |   585098    |  nan  |\n",
            "|        Mohegan Digital, LLC         |   2022/23   | 01/31/2023 12:00:00 AM | 67274953 |    57056212     |      881477      |          127060           |              9210202              |         160658         |              9049544              |                  2130210                   |          1809909          |          7239635           |   995450    |  nan  |\n",
            "|        Mohegan Digital, LLC         |   2022/23   | 10/31/2022 12:00:00 AM | 66256599 |    57720086     |      506360      |          -69005           |              8099159              |         159129         |              7940030              |                  2098682                   |          1588006          |          6352024           |   873403    |  nan  |\n",
            "|        Mohegan Digital, LLC         |   2022/23   | 03/31/2023 12:00:00 AM | 65687967 |    58128510     |      127340      |           41404           |              7390714              |         158755         |              7231959              |                  2058723                   |          1446392          |          5785567           |   795516    |  nan  |\n",
            "| MPI Master Wagering License CT, LLC |   2022/23   | 09/30/2022 12:00:00 AM | 58313129 |    50936725     |      214091      |           18573           |              7143740              |         139135         |              7004605              |                  2199505                   |          1751151          |          5253454           |   722350    |  nan  |\n",
            "| MPI Master Wagering License CT, LLC |   2022/23   | 02/28/2023 12:00:00 AM | 57687441 |    53820465     |      123885      |          370199           |              3372892              |         139473         |              3233419              |                  1532891                   |          646684           |          2586735           |   355676    |  nan  |\n",
            "|        Mohegan Digital, LLC         |   2022/23   | 04/30/2023 12:00:00 AM | 57181291 |    50502591     |      254356      |           -2508           |              6426852              |         138118         |              6288733              |                  1679689                   |          1257747          |          5030987           |   691761    |  nan  |\n",
            "|        Mohegan Digital, LLC         |   2022/23   | 02/28/2023 12:00:00 AM | 57179870 |    50730775     |      137599      |          112645           |              6198851              |         137482         |              6061369              |                  2049352                   |          1212274          |          4849095           |   666751    |  nan  |\n",
            "|        Mohegan Digital, LLC         |   2022/23   | 09/30/2022 12:00:00 AM | 53792250 |    46180357     |      318486      |           14683           |              7278724              |         128040         |              7150685              |                  2257935                   |          1787671          |          5363014           |   737414    |  nan  |\n",
            "+-------------------------------------+-------------+------------------------+----------+-----------------+------------------+---------------------------+-----------------------------------+------------------------+-----------------------------------+--------------------------------------------+---------------------------+----------------------------+-------------+-------+\n"
          ]
        }
      ]
    },
    {
      "cell_type": "markdown",
      "source": [
        "**8- Qual é a média de reassentamentos mensais para cada licenciado?**"
      ],
      "metadata": {
        "id": "tyKQDMYR0Wu1"
      }
    },
    {
      "cell_type": "code",
      "source": [
        "conn = sqlite3.connect(':memory:')\n",
        "dataframe.to_sql('my_table', conn, index=False)\n",
        "\n",
        "query = \"\"\"\n",
        "SELECT Licensee, AVG(\"Monthly Resettlements (3)\") AS avg_monthly_resettlements\n",
        "FROM my_table\n",
        "GROUP BY Licensee;\n",
        "\"\"\"\n",
        "\n",
        "query = pd.read_sql_query(query, conn)\n",
        "\n",
        "print(tabulate(query, headers='keys', tablefmt='pretty', showindex=False))\n",
        "\n",
        "conn.close()"
      ],
      "metadata": {
        "id": "DmX2HiY9plPc",
        "colab": {
          "base_uri": "https://localhost:8080/"
        },
        "outputId": "a2df9117-5a98-4ca1-9fca-66d45b0c6fe8"
      },
      "execution_count": 23,
      "outputs": [
        {
          "output_type": "stream",
          "name": "stdout",
          "text": [
            "+-------------------------------------+---------------------------+\n",
            "|              Licensee               | avg_monthly_resettlements |\n",
            "+-------------------------------------+---------------------------+\n",
            "|           CT Lottery Corp           |          4014.92          |\n",
            "| MPI Master Wagering License CT, LLC |         42820.68          |\n",
            "|        Mohegan Digital, LLC         |         28762.48          |\n",
            "+-------------------------------------+---------------------------+\n"
          ]
        }
      ]
    },
    {
      "cell_type": "code",
      "source": [
        "query = dataframe.groupby('Licensee')['Monthly Resettlements (3)'].mean().reset_index()\n",
        "\n",
        "print(tabulate(query, headers='keys', tablefmt='pretty', showindex=False))"
      ],
      "metadata": {
        "id": "h1oRaf2KpnmW",
        "colab": {
          "base_uri": "https://localhost:8080/"
        },
        "outputId": "baa6e803-1950-432b-c170-886df770ea86"
      },
      "execution_count": 24,
      "outputs": [
        {
          "output_type": "stream",
          "name": "stdout",
          "text": [
            "+-------------------------------------+---------------------------+\n",
            "|              Licensee               | Monthly Resettlements (3) |\n",
            "+-------------------------------------+---------------------------+\n",
            "|           CT Lottery Corp           |          4014.92          |\n",
            "| MPI Master Wagering License CT, LLC |         42820.68          |\n",
            "|        Mohegan Digital, LLC         |         28762.48          |\n",
            "+-------------------------------------+---------------------------+\n"
          ]
        }
      ]
    },
    {
      "cell_type": "markdown",
      "source": [
        "**9- Quais são os 5 maiores valores de \"Online Sports Wagering Win/(Loss)\" para o ano fiscal de 2023?**"
      ],
      "metadata": {
        "id": "9cHXX96eVxAK"
      }
    },
    {
      "cell_type": "code",
      "source": [
        "conn = sqlite3.connect(':memory:')\n",
        "dataframe.to_sql('my_table', conn, index=False)\n",
        "\n",
        "query = \"\"\"\n",
        "SELECT *\n",
        "FROM my_table\n",
        "WHERE \"Fiscal Year\" LIKE '2023%'\n",
        "ORDER BY \"Online Sports Wagering Win/(Loss)\" DESC\n",
        "LIMIT 5;\n",
        "\"\"\"\n",
        "\n",
        "query = pd.read_sql_query(query, conn)\n",
        "\n",
        "print(tabulate(query, headers='keys', tablefmt='pretty', showindex=False))\n",
        "\n",
        "conn.close()"
      ],
      "metadata": {
        "id": "L2J8aIfRV0cn",
        "colab": {
          "base_uri": "https://localhost:8080/"
        },
        "outputId": "e3978809-52f4-4fb0-a49e-2b88c4df9ea3"
      },
      "execution_count": 25,
      "outputs": [
        {
          "output_type": "stream",
          "name": "stdout",
          "text": [
            "+-------------------------------------+-------------+------------------------+----------+-----------------+------------------+---------------------------+-----------------------------------+------------------------+-----------------------------------+--------------------------------------------+---------------------------+----------------------------+-------------+-------+\n",
            "|              Licensee               | Fiscal Year |      Month Ending      |  Wagers  | Patron Winnings | Cancelled Wagers | Monthly Resettlements (3) | Online Sports Wagering Win/(Loss) | Federal Excise Tax (4) | Unadjusted Monthly Gaming Revenue | Promotional Coupons or Credits Wagered (5) | Promotional Deduction (6) | Total Gross Gaming Revenue | Payment (7) | Notes |\n",
            "+-------------------------------------+-------------+------------------------+----------+-----------------+------------------+---------------------------+-----------------------------------+------------------------+-----------------------------------+--------------------------------------------+---------------------------+----------------------------+-------------+-------+\n",
            "|        Mohegan Digital, LLC         |   2023/24   | 09/30/2023 12:00:00 AM | 75742477 |    66066300     |      219048      |          -72833           |              9529961              |         181472         |              9348489              |                  2934685                   |          1869698          |          7478791           |   1028334   |       |\n",
            "|        Mohegan Digital, LLC         |   2023/24   | 10/31/2023 12:00:00 AM | 75578037 |    66242159     |      114432      |           51957           |              9169489              |         181797         |              8987693              |                  2744995                   |          1348154          |          7639539           |   1050437   |       |\n",
            "| MPI Master Wagering License CT, LLC |   2023/24   | 10/31/2023 12:00:00 AM | 88261046 |    80492445     |      159833      |          -16787           |              7625553              |         212331         |              7413222              |                  2517905                   |          1111983          |          6301239           |   866420    |       |\n",
            "| MPI Master Wagering License CT, LLC |   2023/24   | 09/30/2023 12:00:00 AM | 79064255 |    72235151     |      191177      |          -264510          |              6902437              |         188874         |              6713563              |                  2996029                   |          1342713          |          5370850           |   738492    |       |\n",
            "|        Mohegan Digital, LLC         |   2023/24   | 07/31/2023 12:00:00 AM | 36303549 |    31265390     |      220470      |            113            |              4817576              |         87629          |              4729947              |                  1031661                   |          945989           |          3783958           |   520294    |       |\n",
            "+-------------------------------------+-------------+------------------------+----------+-----------------+------------------+---------------------------+-----------------------------------+------------------------+-----------------------------------+--------------------------------------------+---------------------------+----------------------------+-------------+-------+\n"
          ]
        }
      ]
    },
    {
      "cell_type": "code",
      "source": [
        "query = dataframe.loc[dataframe['Fiscal Year'].str.startswith('2023')].nlargest(5, 'Online Sports Wagering Win/(Loss)')\n",
        "\n",
        "print(tabulate(query, headers='keys', tablefmt='pretty', showindex=False))"
      ],
      "metadata": {
        "id": "2SJK44SwV5jX",
        "colab": {
          "base_uri": "https://localhost:8080/"
        },
        "outputId": "413e5f6c-a179-44d5-fae3-d79d73fab618"
      },
      "execution_count": 26,
      "outputs": [
        {
          "output_type": "stream",
          "name": "stdout",
          "text": [
            "+-------------------------------------+-------------+------------------------+----------+-----------------+------------------+---------------------------+-----------------------------------+------------------------+-----------------------------------+--------------------------------------------+---------------------------+----------------------------+-------------+-------+\n",
            "|              Licensee               | Fiscal Year |      Month Ending      |  Wagers  | Patron Winnings | Cancelled Wagers | Monthly Resettlements (3) | Online Sports Wagering Win/(Loss) | Federal Excise Tax (4) | Unadjusted Monthly Gaming Revenue | Promotional Coupons or Credits Wagered (5) | Promotional Deduction (6) | Total Gross Gaming Revenue | Payment (7) | Notes |\n",
            "+-------------------------------------+-------------+------------------------+----------+-----------------+------------------+---------------------------+-----------------------------------+------------------------+-----------------------------------+--------------------------------------------+---------------------------+----------------------------+-------------+-------+\n",
            "|        Mohegan Digital, LLC         |   2023/24   | 09/30/2023 12:00:00 AM | 75742477 |    66066300     |      219048      |          -72833           |              9529961              |         181472         |              9348489              |                  2934685                   |          1869698          |          7478791           |   1028334   |  nan  |\n",
            "|        Mohegan Digital, LLC         |   2023/24   | 10/31/2023 12:00:00 AM | 75578037 |    66242159     |      114432      |           51957           |              9169489              |         181797         |              8987693              |                  2744995                   |          1348154          |          7639539           |   1050437   |  nan  |\n",
            "| MPI Master Wagering License CT, LLC |   2023/24   | 10/31/2023 12:00:00 AM | 88261046 |    80492445     |      159833      |          -16787           |              7625553              |         212331         |              7413222              |                  2517905                   |          1111983          |          6301239           |   866420    |  nan  |\n",
            "| MPI Master Wagering License CT, LLC |   2023/24   | 09/30/2023 12:00:00 AM | 79064255 |    72235151     |      191177      |          -264510          |              6902437              |         188874         |              6713563              |                  2996029                   |          1342713          |          5370850           |   738492    |  nan  |\n",
            "|        Mohegan Digital, LLC         |   2023/24   | 07/31/2023 12:00:00 AM | 36303549 |    31265390     |      220470      |            113            |              4817576              |         87629          |              4729947              |                  1031661                   |          945989           |          3783958           |   520294    |  nan  |\n",
            "+-------------------------------------+-------------+------------------------+----------+-----------------+------------------+---------------------------+-----------------------------------+------------------------+-----------------------------------+--------------------------------------------+---------------------------+----------------------------+-------------+-------+\n"
          ]
        }
      ]
    },
    {
      "cell_type": "markdown",
      "source": [
        "**10- Qual é a soma total de \"Deductions\" para cada ano fiscal**"
      ],
      "metadata": {
        "id": "dvEyKyr_wOEA"
      }
    },
    {
      "cell_type": "code",
      "source": [
        "conn = sqlite3.connect(':memory:')\n",
        "dataframe.to_sql('my_table', conn, index=False)\n",
        "\n",
        "query = \"\"\"\n",
        "SELECT \"Fiscal Year\", SUM(\"Promotional Deduction (6)\") AS total_promotional_deduction\n",
        "FROM my_table\n",
        "GROUP BY \"Fiscal Year\";\n",
        "\"\"\"\n",
        "\n",
        "query = pd.read_sql_query(query, conn)\n",
        "\n",
        "print(tabulate(query, headers='keys', tablefmt='pretty', showindex=False))\n",
        "\n",
        "conn.close()"
      ],
      "metadata": {
        "id": "-P0c4q2kwOYh",
        "colab": {
          "base_uri": "https://localhost:8080/"
        },
        "outputId": "9ae45044-2878-45d8-9428-5e9ccc1d81c3"
      },
      "execution_count": 27,
      "outputs": [
        {
          "output_type": "stream",
          "name": "stdout",
          "text": [
            "+-------------+-----------------------------+\n",
            "| Fiscal Year | total_promotional_deduction |\n",
            "+-------------+-----------------------------+\n",
            "|   2021/22   |          18280155           |\n",
            "|   2022/23   |          29463161           |\n",
            "|   2023/24   |           9160384           |\n",
            "+-------------+-----------------------------+\n"
          ]
        }
      ]
    },
    {
      "cell_type": "code",
      "source": [
        "query = dataframe.groupby('Fiscal Year')['Promotional Deduction (6)']. sum().reset_index()\n",
        "\n",
        "print(tabulate(query, headers='keys', tablefmt='pretty', showindex=False))"
      ],
      "metadata": {
        "id": "Js1P7LYswTNg",
        "colab": {
          "base_uri": "https://localhost:8080/"
        },
        "outputId": "96f3034b-ddb5-42d9-cb11-b93d2470080e"
      },
      "execution_count": 28,
      "outputs": [
        {
          "output_type": "stream",
          "name": "stdout",
          "text": [
            "+-------------+---------------------------+\n",
            "| Fiscal Year | Promotional Deduction (6) |\n",
            "+-------------+---------------------------+\n",
            "|   2021/22   |         18280155          |\n",
            "|   2022/23   |         29463161          |\n",
            "|   2023/24   |          9160384          |\n",
            "+-------------+---------------------------+\n"
          ]
        }
      ]
    }
  ]
}